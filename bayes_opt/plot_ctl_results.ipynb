{
 "cells": [
  {
   "cell_type": "code",
   "execution_count": 1,
   "id": "250e48a1-2e17-4223-b57e-7e5d7fad44dc",
   "metadata": {},
   "outputs": [],
   "source": [
    "import matplotlib.pyplot as plt\n",
    "import numpy as np\n",
    "import io,os,glob,scipy\n",
    "from h5py import File\n",
    "from netCDF4 import Dataset\n",
    "import datetime as dt\n",
    "import lpdm"
   ]
  },
  {
   "cell_type": "code",
   "execution_count": 4,
   "id": "e9b18acd-fca4-405a-babe-9cfa173ea940",
   "metadata": {},
   "outputs": [],
   "source": [
    "with open('/Users/seancrowell/Google Drive/My Drive/CarbonFOX/simulations/mair/coarse_col_receptors.asc') as f:\n",
    "    files = f.read().splitlines()\n",
    "ft = np.zeros((776,24,100,133))\n",
    "for fi in files:\n",
    "    ft += Dataset(fi)['foot'][:]"
   ]
  },
  {
   "cell_type": "markdown",
   "id": "ea23602c-c5c6-40ea-88af-6dc44de02eee",
   "metadata": {},
   "source": [
    "### Simplest setup:\n",
    "Prior = ACES\n",
    "\n",
    "Truth = 2 x ACES\n",
    "\n",
    "Obs Uncert = 0.01ppm\n",
    "\n",
    "Prior Uncert = abs(ACES)\n",
    "\n",
    "Transport is perfect"
   ]
  },
  {
   "cell_type": "code",
   "execution_count": 5,
   "id": "792dd402-8bf8-4929-b1fe-1b45d1c23ddf",
   "metadata": {},
   "outputs": [
    {
     "ename": "FileNotFoundError",
     "evalue": "[Errno 2] No such file or directory: 'strue.nc'",
     "output_type": "error",
     "traceback": [
      "\u001b[0;31m---------------------------------------------------------------------------\u001b[0m",
      "\u001b[0;31mFileNotFoundError\u001b[0m                         Traceback (most recent call last)",
      "Cell \u001b[0;32mIn[5], line 3\u001b[0m\n\u001b[1;32m      1\u001b[0m shat \u001b[38;5;241m=\u001b[39m Dataset(\u001b[38;5;124m'\u001b[39m\u001b[38;5;124mshat_aces2xtruth_0.01ppm.nc4\u001b[39m\u001b[38;5;124m'\u001b[39m)[\u001b[38;5;124m'\u001b[39m\u001b[38;5;124mshat\u001b[39m\u001b[38;5;124m'\u001b[39m][:]\n\u001b[1;32m      2\u001b[0m apri \u001b[38;5;241m=\u001b[39m Dataset(\u001b[38;5;124m'\u001b[39m\u001b[38;5;124msprior.nc\u001b[39m\u001b[38;5;124m'\u001b[39m)[\u001b[38;5;124m'\u001b[39m\u001b[38;5;124msprior\u001b[39m\u001b[38;5;124m'\u001b[39m][:]\n\u001b[0;32m----> 3\u001b[0m true \u001b[38;5;241m=\u001b[39m \u001b[43mDataset\u001b[49m\u001b[43m(\u001b[49m\u001b[38;5;124;43m'\u001b[39;49m\u001b[38;5;124;43mstrue.nc\u001b[39;49m\u001b[38;5;124;43m'\u001b[39;49m\u001b[43m)\u001b[49m[\u001b[38;5;124m'\u001b[39m\u001b[38;5;124msprior\u001b[39m\u001b[38;5;124m'\u001b[39m][:]\n\u001b[1;32m      4\u001b[0m sig \u001b[38;5;241m=\u001b[39m Dataset(\u001b[38;5;124m'\u001b[39m\u001b[38;5;124mprior_uncert.nc\u001b[39m\u001b[38;5;124m'\u001b[39m)[\u001b[38;5;124m'\u001b[39m\u001b[38;5;124msigma\u001b[39m\u001b[38;5;124m'\u001b[39m][:]\n",
      "File \u001b[0;32msrc/netCDF4/_netCDF4.pyx:2464\u001b[0m, in \u001b[0;36mnetCDF4._netCDF4.Dataset.__init__\u001b[0;34m()\u001b[0m\n",
      "File \u001b[0;32msrc/netCDF4/_netCDF4.pyx:2027\u001b[0m, in \u001b[0;36mnetCDF4._netCDF4._ensure_nc_success\u001b[0;34m()\u001b[0m\n",
      "\u001b[0;31mFileNotFoundError\u001b[0m: [Errno 2] No such file or directory: 'strue.nc'"
     ]
    }
   ],
   "source": [
    "shat = Dataset('shat_aces2xtruth_0.01ppm.nc4')['shat'][:]\n",
    "apri = Dataset('sprior.nc')['sprior'][:]\n",
    "true = Dataset('strue.nc')['sprior'][:]\n",
    "sig = Dataset('prior_uncert.nc')['sigma'][:]\n"
   ]
  },
  {
   "cell_type": "code",
   "execution_count": null,
   "id": "58994b62-58d0-4645-9547-edb3b740e8e8",
   "metadata": {},
   "outputs": [],
   "source": [
    "\n",
    "fig,axs = plt.subplots(1,3,figsize=(14,4))\n",
    "#prior\n",
    "g = axs[0].pcolormesh(apri[12:36].mean(0),cmap=plt.cm.Reds,vmin=0,vmax=20); \n",
    "plt.colorbar(g,ax=axs[0])\n",
    "axs[0].set_title('Prior Emission')\n",
    "#Posterior\n",
    "g = axs[1].pcolormesh(shat[12:36].mean(0),cmap=plt.cm.Reds,vmin=0,vmax=20); \n",
    "plt.colorbar(g,ax=axs[1])\n",
    "axs[1].set_title('Posterior Emission')\n",
    "#True\n",
    "g = axs[2].pcolormesh(true[12:36].mean(0),cmap=plt.cm.Reds,vmin=0,vmax=20); \n",
    "plt.colorbar(g,ax=axs[2])\n",
    "axs[2].set_title('True Emission')"
   ]
  },
  {
   "cell_type": "code",
   "execution_count": 3,
   "id": "dff711ee-e621-4ddc-857f-e1395d77babd",
   "metadata": {},
   "outputs": [
    {
     "ename": "NameError",
     "evalue": "name 'true' is not defined",
     "output_type": "error",
     "traceback": [
      "\u001b[0;31m---------------------------------------------------------------------------\u001b[0m",
      "\u001b[0;31mNameError\u001b[0m                                 Traceback (most recent call last)",
      "Cell \u001b[0;32mIn[3], line 1\u001b[0m\n\u001b[0;32m----> 1\u001b[0m inds \u001b[38;5;241m=\u001b[39m np\u001b[38;5;241m.\u001b[39mwhere(\u001b[43mtrue\u001b[49m\u001b[38;5;241m.\u001b[39mmean(\u001b[38;5;241m0\u001b[39m)\u001b[38;5;241m.\u001b[39mflatten() \u001b[38;5;241m>\u001b[39m \u001b[38;5;241m0.1\u001b[39m)\n\u001b[1;32m      2\u001b[0m \u001b[38;5;28mprint\u001b[39m(\u001b[38;5;124mf\u001b[39m\u001b[38;5;124m'\u001b[39m\u001b[38;5;124mMean Post Flux Error: \u001b[39m\u001b[38;5;132;01m{\u001b[39;00mnp\u001b[38;5;241m.\u001b[39mmean((shat\u001b[38;5;241m-\u001b[39mtrue)\u001b[38;5;241m.\u001b[39mmean(\u001b[38;5;241m0\u001b[39m)\u001b[38;5;241m.\u001b[39mflatten()[inds])\u001b[38;5;132;01m:\u001b[39;00m\u001b[38;5;124m5.3f\u001b[39m\u001b[38;5;132;01m}\u001b[39;00m\u001b[38;5;124m'\u001b[39m)\n\u001b[1;32m      3\u001b[0m \u001b[38;5;28mprint\u001b[39m(\u001b[38;5;124mf\u001b[39m\u001b[38;5;124m'\u001b[39m\u001b[38;5;124mMean Prior Flux Error: \u001b[39m\u001b[38;5;132;01m{\u001b[39;00mnp\u001b[38;5;241m.\u001b[39mmean((apri\u001b[38;5;241m-\u001b[39mtrue)\u001b[38;5;241m.\u001b[39mmean(\u001b[38;5;241m0\u001b[39m)\u001b[38;5;241m.\u001b[39mflatten()[inds])\u001b[38;5;132;01m:\u001b[39;00m\u001b[38;5;124m5.3f\u001b[39m\u001b[38;5;132;01m}\u001b[39;00m\u001b[38;5;124m'\u001b[39m)\n",
      "\u001b[0;31mNameError\u001b[0m: name 'true' is not defined"
     ]
    }
   ],
   "source": [
    "inds = np.where(true.mean(0).flatten() > 0.1)\n",
    "print(f'Mean Post Flux Error: {np.mean((shat-true).mean(0).flatten()[inds]):5.3f}')\n",
    "print(f'Mean Prior Flux Error: {np.mean((apri-true).mean(0).flatten()[inds]):5.3f}')\n",
    "print(f'Mean Flux Increment: {np.mean((apri-shat).mean(0).flatten()[inds]):5.3f}')\n",
    "print()\n",
    "print(f'Median Post Flux Error: {np.median((shat-true).mean(0).flatten()[inds]):5.3f}')\n",
    "print(f'Median Prior Flux Error: {np.median((apri-true).mean(0).flatten()[inds]):5.3f}')\n",
    "print(f'Median Flux Increment: {np.median((apri-shat).mean(0).flatten()[inds]):5.3f}')\n",
    "print()\n",
    "print(f'Post Flux RMSE: {np.sqrt(np.mean(((shat-true).mean(0).flatten()**2)[inds])):5.3f}')\n",
    "print(f'Prior Flux RMSE: {np.sqrt(np.mean(((apri-true).mean(0).flatten()**2)[inds])):5.3f}')\n",
    "print(f'Prior-Post RMSE: {np.sqrt(np.mean(((apri-shat).mean(0).flatten()**2)[inds])):5.3f}')"
   ]
  },
  {
   "cell_type": "code",
   "execution_count": null,
   "id": "0ce7bc95-4bff-4689-88b9-c5ba8725c839",
   "metadata": {},
   "outputs": [],
   "source": [
    "inds = np.where(true.mean(0).flatten() > 0.1)\n",
    "fig,axs = plt.subplots(1,1)\n",
    "axs.hist((shat-true).mean(0).flatten()[inds]/(apri-true).mean(0).flatten()[inds]),bins=np.linspace(0,2,201));"
   ]
  },
  {
   "cell_type": "code",
   "execution_count": null,
   "id": "24dd61e5-87ed-43f8-9e08-88973681ce7e",
   "metadata": {},
   "outputs": [],
   "source": [
    "fig,axs = plt.subplots(2,2,figsize=(10,10))\n",
    "\n",
    "ax = axs[0,0]\n",
    "g = ax.pcolormesh(apri[-5:-4].mean(0)/true[-5:-4].mean(0),vmin=0.5,vmax=1.5)\n",
    "plt.colorbar(g,ax=ax)\n",
    "ax.set_title('Prior:Truth Ratio')\n",
    "\n",
    "ax = axs[0,1]\n",
    "g = ax.pcolormesh(shat[-5:-4].mean(0)/true[-5:-4].mean(0),vmin=0.5,vmax=1.5)\n",
    "plt.colorbar(g,ax=ax)\n",
    "ax.set_title('Posterior:Truth Ratio')\n",
    "\n",
    "ax = axs[1,0]\n",
    "g = ax.pcolormesh(sig[12],vmin=0.1,vmax=20)\n",
    "plt.colorbar(g,ax=ax)\n",
    "ax.set_title('Sigma')\n",
    "\n",
    "ax = axs[1,1]\n",
    "g = ax.pcolormesh(ft.sum((0,1)))\n",
    "plt.colorbar(g,ax=ax)\n",
    "ax.set_title('Footprint Total Sensitivity')"
   ]
  },
  {
   "cell_type": "code",
   "execution_count": null,
   "id": "414aaf8e-29cb-469c-8c21-a1d14702c7ab",
   "metadata": {},
   "outputs": [],
   "source": [
    "ctl = lpdm.lpdm('config.ini')\n",
    "apri_v = ctl.load_file('sprior.nc','sprior')\n",
    "tru_v = ctl.load_file('aces2x_4km_6km_prior_daily_mean.nc','sprior')\n",
    "\n",
    "hsp = ctl.convolve(apri_v)\n",
    "hst = ctl.convolve(tru_v)\n",
    "hsp2 = np.loadtxt('hsprior.txt')\n",
    "zhsp = np.loadtxt('zhsp.txt')\n",
    "hsh = np.loadtxt('hshat.txt')\n",
    "\n",
    "plt.hist(hsp-hst,bins=np.linspace(-20,20,401),histtype='step');\n",
    "plt.hist(hsh-hst,bins=np.linspace(-20,20,401),histtype='step');\n",
    "plt.legend(['Prior MDM','Posterior MDM'])\n",
    "plt.title('Mismatch with Obs Before and After Optimization')"
   ]
  },
  {
   "cell_type": "code",
   "execution_count": null,
   "id": "d6271770-04f4-498f-8f38-0f55755a7fe7",
   "metadata": {},
   "outputs": [],
   "source": []
  },
  {
   "cell_type": "code",
   "execution_count": null,
   "id": "24829d75-b98b-4f9f-8164-1e9bf71d1379",
   "metadata": {},
   "outputs": [],
   "source": [
    "apri.shape"
   ]
  },
  {
   "cell_type": "code",
   "execution_count": null,
   "id": "9882bf3d-eafd-4d1e-a048-e74092f46050",
   "metadata": {},
   "outputs": [],
   "source": [
    "ctl = lpdm.lpdm('config.ini')"
   ]
  },
  {
   "cell_type": "markdown",
   "id": "426ddbfd-5cb9-4e19-a9b0-40f51fd8b709",
   "metadata": {},
   "source": [
    "## Comparison of Different Obs Errors"
   ]
  },
  {
   "cell_type": "code",
   "execution_count": null,
   "id": "5506212b-6c26-49d3-8b34-0741eca9be61",
   "metadata": {},
   "outputs": [],
   "source": [
    "shat_001 = Dataset('shat_aces1.3xtruth_0.01ppm.nc')['shat'][:]\n",
    "shat_05 = Dataset('shat_aces1.3xtruth_0.5ppm.nc')['shat'][:]\n",
    "shat_2 = Dataset('shat_aces1.3xtruth_2.0ppm.nc')['shat'][:]\n",
    "\n",
    "shat_001_v = Dataset('shat_vulcantruth_0.01ppm.nc4')['shat'][:]\n",
    "shat_05_v = Dataset('shat_vulcantruth_0.5ppm.nc4')['shat'][:]\n",
    "shat_2_v = Dataset('shat_vulcantruth_2.0ppm.nc4')['shat'][:]\n",
    "\n",
    "apri = Dataset('sprior.nc')['sprior'][:]\n",
    "aces_true = Dataset('aces1.3x_4km_6km_prior_daily_mean.nc')['sprior'][:]\n",
    "vulcan_true = Dataset('vulcan_4km_6km_prior_daily_mean.nc')['sprior'][:]\n",
    "sig = Dataset('prior_uncert.nc')['sigma'][:]\n",
    "\n",
    "ctl = lpdm.lpdm('config.ini')\n",
    "apri_v = ctl.load_file('sprior.nc','sprior')\n",
    "aces_tru_v = ctl.load_file('aces1.3x_4km_6km_prior_daily_mean.nc','sprior')\n",
    "vulcan_tru_v = ctl.load_file('vulcan_4km_6km_prior_daily_mean.nc','sprior')"
   ]
  },
  {
   "cell_type": "code",
   "execution_count": null,
   "id": "d25347b3-52ab-4495-bf37-7b873cacd90a",
   "metadata": {},
   "outputs": [],
   "source": [
    "plt.plot(np.arange(0,48,3),apri[:,20:50,75:100].mean((1,2)))\n",
    "plt.plot(np.arange(0,48,3),aces_true[:,20:50,75:100].mean((1,2)),'tab:orange')\n",
    "plt.plot(np.arange(0,48,3),vulcan_true[:,20:50,75:100].mean((1,2)),'tab:green')\n",
    "plt.plot(np.arange(0,48,3),shat_001[:,20:50,75:100].mean((1,2)),'tab:orange',marker='*')\n",
    "plt.plot(np.arange(0,48,3),shat_05[:,20:50,75:100].mean((1,2)),'tab:orange',ls='--')\n",
    "plt.plot(np.arange(0,48,3),shat_2[:,20:50,75:100].mean((1,2)),'tab:orange',ls='-.')\n",
    "\n",
    "plt.plot(np.arange(0,48,3),shat_001_v[:,20:50,75:100].mean((1,2)),'tab:green',marker='*')\n",
    "plt.plot(np.arange(0,48,3),shat_05_v[:,20:50,75:100].mean((1,2)),'tab:green',ls='--')\n",
    "plt.plot(np.arange(0,48,3),shat_2_v[:,20:50,75:100].mean((1,2)),'tab:green',ls='-.')\n",
    "\n",
    "plt.legend(['Prior','ACES 1.3X','Vulcan','Post (A13 0.01ppm)','Post (A13 0.5ppm)','Post (A13 2.0ppm)','Post (V 0.01ppm)','Post (V 0.5ppm)','Post (V 2.0ppm)'])\n",
    "plt.title('NYC Core Hourly Mean Emissions');\n",
    "plt.xticks([0,12,24,36,48],['2023-09-02 OZ','2023-09-02 12Z','2023-09-03 0Z','2023-09-03 12Z','2023-09-04 0Z'],rotation=45);\n",
    "#plt.xticklabels()"
   ]
  },
  {
   "cell_type": "code",
   "execution_count": null,
   "id": "beb211a6-fc85-40eb-ab07-dcbfb96c0105",
   "metadata": {},
   "outputs": [],
   "source": [
    "\n",
    "\n",
    "fig,axs = plt.subplots(3,2,figsize=(10,14))\n",
    "\n",
    "ax = axs[0,0]\n",
    "g = ax.pcolormesh((apri[7:-1].sum(0)-aces_true[7:-1].sum(0))/aces_true[7:-1].sum(0),vmin=-0.5,vmax=0.)\n",
    "plt.colorbar(g,ax=ax)\n",
    "ax.set_title('Prior:Truth (ACES1.3x) Ratio')\n",
    "\n",
    "ax = axs[0,1]\n",
    "g = ax.pcolormesh((shat_001[7:-1].sum(0)-aces_true[7:-1].sum(0))/aces_true[7:-1].sum(0),vmin=-0.5,vmax=0.)\n",
    "plt.colorbar(g,ax=ax)\n",
    "ax.set_title('Posterior:Truth (ACES1.3x) Ratio')\n",
    "\n",
    "ax = axs[1,0]\n",
    "g = ax.pcolormesh((apri[7:-1].mean(0)-vulcan_true[7:-1].mean(0)),vmin=-20,vmax=20)\n",
    "plt.colorbar(g,ax=ax)\n",
    "ax.set_title('Prior:Truth (Vulcan)')\n",
    "\n",
    "ax = axs[1,1]\n",
    "g = ax.pcolormesh((shat_001_v[7:-1].mean(0)-vulcan_true[7:-1].mean(0)),vmin=-20,vmax=20)\n",
    "plt.colorbar(g,ax=ax)\n",
    "ax.set_title('Posterior:Truth (Vulcan)')\n",
    "\n",
    "ax = axs[2,0]\n",
    "g = ax.pcolormesh(sig[12],vmin=0.1,vmax=20)\n",
    "plt.colorbar(g,ax=ax)\n",
    "ax.set_title('Sigma')\n",
    "\n",
    "ax = axs[2,1]\n",
    "g = ax.pcolormesh(ft.sum((0,1)))\n",
    "plt.colorbar(g,ax=ax)\n",
    "ax.set_title('Footprint Total Sensitivity')"
   ]
  },
  {
   "cell_type": "code",
   "execution_count": null,
   "id": "993edfa7-2471-44e7-80dc-265f6ace3a30",
   "metadata": {},
   "outputs": [],
   "source": [
    "hsp = ctl.convolve(apri_v)\n",
    "hst_aces2 = ctl.convolve(aces_tru_v)\n",
    "hst_vulcan = ctl.convolve(vulcan_tru_v)\n",
    "zhsp = np.loadtxt('zhsp.txt')\n",
    "hsh_001 = np.loadtxt('hshat_aces1.3x_0.01ppm.txt')\n",
    "hsh_05 = np.loadtxt('hshat_aces1.3x_0.5ppm.txt')\n",
    "hsh_2 = np.loadtxt('hshat_aces1.3x_0.01ppm.txt')\n",
    "hsh_001_v = np.loadtxt('hshat_vulcan_0.01ppm.txt')\n",
    "hsh_05_v = np.loadtxt('hshat_vulcan_0.5ppm.txt')\n",
    "hsh_2_v = np.loadtxt('hshat_vulcan_2.0ppm.txt')\n",
    "\n",
    "plt.hist(hsp-hst_aces2,bins=np.linspace(-20,20,401),histtype='step',color='tab:blue');\n",
    "plt.hist(hsp-hst_vulcan,bins=np.linspace(-20,20,401),histtype='step',color='tab:orange');\n",
    "plt.legend(['ACES13 Prior MDM','Vulcan Prior MDM'])\n",
    "plt.title('Mismatch with Obs Before and After Optimization')\n"
   ]
  },
  {
   "cell_type": "code",
   "execution_count": null,
   "id": "c5a2919e-35ee-4ba0-885b-07518aaa2a3b",
   "metadata": {},
   "outputs": [],
   "source": [
    "plt.figure()\n",
    "plt.hist(hsh_001-hst_aces2,bins=np.linspace(-20,20,401),histtype='step',color='tab:blue');\n",
    "plt.hist(hsh_001_v-hst_vulcan,bins=np.linspace(-20,20,401),histtype='step',color='tab:orange');\n",
    "plt.legend(['ACES13 Posterior MDM','Vulcan Posterior MDM'])\n",
    "plt.title('Mismatch with Obs Before and After Optimization')"
   ]
  }
 ],
 "metadata": {
  "kernelspec": {
   "display_name": "Python 3 (ipykernel)",
   "language": "python",
   "name": "python3"
  },
  "language_info": {
   "codemirror_mode": {
    "name": "ipython",
    "version": 3
   },
   "file_extension": ".py",
   "mimetype": "text/x-python",
   "name": "python",
   "nbconvert_exporter": "python",
   "pygments_lexer": "ipython3",
   "version": "3.11.6"
  }
 },
 "nbformat": 4,
 "nbformat_minor": 5
}
