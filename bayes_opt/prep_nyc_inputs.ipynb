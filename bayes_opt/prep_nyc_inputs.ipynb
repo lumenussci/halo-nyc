{
 "cells": [
  {
   "cell_type": "code",
   "execution_count": 2,
   "id": "293655b7-5680-4ae6-b8fc-1f9ee6a10819",
   "metadata": {},
   "outputs": [],
   "source": [
    "#!pip install configobj\n",
    "import numpy as np\n",
    "import lpdm\n",
    "import scipy\n",
    "from global_land_mask import globe\n",
    "import netCDF4 as nc\n",
    "from h5py import File\n",
    "import rpy2.robjects as ro\n",
    "from rpy2.robjects.packages import importr\n",
    "from rpy2.robjects import pandas2ri\n",
    "import glob\n",
    "import matplotlib.pyplot as plt"
   ]
  },
  {
   "cell_type": "code",
   "execution_count": 4,
   "id": "5e17349a-3757-45d4-93e2-11ec56433b39",
   "metadata": {},
   "outputs": [],
   "source": [
    "pwf = File('/Users/seancrowell/Google Drive/My Drive/CarbonFOX/simulations/halo/avg_kernels.h5','r')['pwf_no_norm'][:]\n",
    "alts = File('/Users/seancrowell/Google Drive/My Drive/CarbonFOX/simulations/halo/avg_kernels.h5','r')['alt'][:]\n",
    "emis_dir = '/Users/seancrowell/Google Drive/My Drive/CarbonFOX/simulations/nyc sims/emissions/'\n"
   ]
  },
  {
   "cell_type": "markdown",
   "id": "a74f523e-801a-4b88-b5a6-d93ada6f48f2",
   "metadata": {},
   "source": [
    "# Create Column Footprints\n",
    "### Compute unweighted and pressure weighted column average\n",
    "### DON'T REPEAT THIS UNLESS FOOTPRINTS ARE UPDATED"
   ]
  },
  {
   "cell_type": "code",
   "execution_count": 66,
   "id": "cd6f1506-7ba2-4d9d-bd69-d044c9c63ad0",
   "metadata": {},
   "outputs": [
    {
     "ename": "NameError",
     "evalue": "name 'glob' is not defined",
     "output_type": "error",
     "traceback": [
      "\u001b[0;31m---------------------------------------------------------------------------\u001b[0m",
      "\u001b[0;31mNameError\u001b[0m                                 Traceback (most recent call last)",
      "Cell \u001b[0;32mIn[66], line 2\u001b[0m\n\u001b[1;32m      1\u001b[0m out_dir \u001b[38;5;241m=\u001b[39m \u001b[38;5;124m'\u001b[39m\u001b[38;5;124mfootprints/col_footprints/\u001b[39m\u001b[38;5;124m'\u001b[39m\n\u001b[0;32m----> 2\u001b[0m old_files \u001b[38;5;241m=\u001b[39m \u001b[43mglob\u001b[49m\u001b[38;5;241m.\u001b[39mglob(out_dir\u001b[38;5;241m+\u001b[39m\u001b[38;5;124m'\u001b[39m\u001b[38;5;124m*col*\u001b[39m\u001b[38;5;124m'\u001b[39m)\n\u001b[1;32m      3\u001b[0m \u001b[38;5;28;01mfor\u001b[39;00m fi \u001b[38;5;129;01min\u001b[39;00m old_files:\n\u001b[1;32m      4\u001b[0m     os\u001b[38;5;241m.\u001b[39mremove(fi)\n",
      "\u001b[0;31mNameError\u001b[0m: name 'glob' is not defined"
     ]
    }
   ],
   "source": [
    "out_dir = '../col_fps/column_fps/'\n",
    "old_files = glob.glob(out_dir+'*col*')\n",
    "for fi in old_files:\n",
    "    os.remove(fi)\n",
    "\n",
    "files = np.array(sorted(glob.glob('footprints/*foot.nc')))\n",
    "lat_all = np.array([float(fi.split('_')[-3]) for fi in files])\n",
    "lon_all = np.array([float(fi.split('_')[-4]) for fi in files])\n",
    "lats = set(lat_all)\n",
    "for lat in list(lats):\n",
    "    lat_inds = np.where(lat_all == lat)[0]\n",
    "    lons = set(lon_all[lat_inds])\n",
    "    for lon in list(lons):\n",
    "        inds = np.where((lat_all == lat)*(lon_all == lon))[0]\n",
    "        inds = [i for i in inds]\n",
    "        if len(inds) == 0: continue\n",
    "\n",
    "        rec_files = files[inds]\n",
    "        levs = np.array([int(fi.split('_')[-2]) for fi in rec_files])\n",
    "        obs_t = rec_files[0].split('/')[-1].split('_')[0]\n",
    "        col_fp = np.zeros((24,200,266))\n",
    "        pwcol_fp = np.zeros((24,200,266))\n",
    "        ptot = 0.\n",
    "        for fi in rec_files:\n",
    "            h = int(fi.split('_')[-2])\n",
    "            lev = np.argwhere(alts == h)[0]\n",
    "            nt = File(fi)['foot'][:].shape[0]\n",
    "            col_fp[-nt:] += File(fi)['foot'][-nt:]\n",
    "            pwcol_fp[-nt:] += File(fi)['foot'][-nt:]*pwf[lev]\n",
    "            ptot += pwf[lev]\n",
    "        col_fp /= len(rec_files)\n",
    "        pwcol_fp /= ptot\n",
    "\n",
    "        rec_fname_split = rec_files[0].split('/')[1].split('_')\n",
    "        col_fname = ''\n",
    "        low_fname = ''\n",
    "        for i in range(3):\n",
    "            col_fname += rec_fname_split[i]+'_'\n",
    "            low_fname += rec_fname_split[i]+'_'\n",
    "        col_fname += 'col_foot.nc'\n",
    "        low_fname += '50_foot.nc'\n",
    "        fout = Dataset(out_dir+col_fname,'w')\n",
    "        fin = Dataset('footprints/'+low_fname,'r')\n",
    "        for di,d in enumerate(['time','lat','lon']):\n",
    "            fout.createDimension(d,pwcol_fp.shape[di])\n",
    "        for v in ['time','lat','lon','foot']:\n",
    "            fout.createVariable(v,fin[v].dtype,fin[v].dimensions)\n",
    "            fout[v].units = fin[v].units\n",
    "            \n",
    "        fout['lat'][:] = fin['lat'][:]\n",
    "        fout['lon'][:] = fin['lon'][:]\n",
    "        fout['time'][:] = -(23-np.arange(24))*3600 + fin['time'][-1]\n",
    "        fout['foot'][:] = pwcol_fp[:]\n",
    "        fout.close()"
   ]
  },
  {
   "cell_type": "markdown",
   "id": "48f2a075-a8d4-4603-a387-7c65df55b8fe",
   "metadata": {},
   "source": [
    "## Create Coarsened Files for Testing"
   ]
  },
  {
   "cell_type": "code",
   "execution_count": null,
   "id": "da430efd-383b-4ba0-b9cf-d5c4d767d95e",
   "metadata": {},
   "outputs": [],
   "source": [
    "out_dir = 'footprints/coarse_col_footprints/'\n",
    "old_files = glob.glob(out_dir+'*col*')\n",
    "for fi in old_files:\n",
    "    os.remove(fi)\n",
    "\n",
    "files = np.array(sorted(glob.glob('footprints/*foot.nc')))\n",
    "lat_all = np.array([float(fi.split('_')[-3]) for fi in files])\n",
    "lon_all = np.array([float(fi.split('_')[-4]) for fi in files])\n",
    "lats = set(lat_all)\n",
    "for lat in list(lats):\n",
    "    lat_inds = np.where(lat_all == lat)[0]\n",
    "    lons = set(lon_all[lat_inds])\n",
    "    for lon in list(lons):\n",
    "        inds = np.where((lat_all == lat)*(lon_all == lon))[0]\n",
    "        inds = [i for i in inds]\n",
    "        if len(inds) == 0: continue\n",
    "\n",
    "        rec_files = files[inds]\n",
    "        levs = np.array([int(fi.split('_')[-2]) for fi in rec_files])\n",
    "        obs_t = rec_files[0].split('/')[-1].split('_')[0]\n",
    "        col_fp = np.zeros((24,100,133))\n",
    "        pwcol_fp = np.zeros((24,100,133))\n",
    "        ptot = 0.\n",
    "        for fi in rec_files:\n",
    "            h = int(fi.split('_')[-2])\n",
    "            lev = np.argwhere(alts == h)[0]\n",
    "            nt = File(fi)['foot'][:].shape[0]\n",
    "            ft = File(fi)['foot'][-nt:]\n",
    "            cft = np.zeros((nt,100,133))\n",
    "            for ilat in range(100):\n",
    "                cft[:,ilat,:] = ft[:,2*ilat:2*(ilat+1),0:-1:2].mean(1) + ft[:,2*ilat:2*(ilat+1),1::2].mean(1)\n",
    "            col_fp[-nt:] += cft\n",
    "            pwcol_fp[-nt:] += cft*pwf[lev]\n",
    "            ptot += pwf[lev]\n",
    "        col_fp /= len(rec_files)\n",
    "        pwcol_fp /= ptot\n",
    "\n",
    "        rec_fname_split = rec_files[0].split('/')[1].split('_')\n",
    "        col_fname = ''\n",
    "        low_fname = ''\n",
    "        for i in range(3):\n",
    "            col_fname += rec_fname_split[i]+'_'\n",
    "            low_fname += rec_fname_split[i]+'_'\n",
    "        col_fname += 'col_foot.nc'\n",
    "        low_fname += '50_foot.nc'\n",
    "        fout = Dataset(out_dir+col_fname,'w')\n",
    "        fin = Dataset('footprints/'+low_fname,'r')\n",
    "        for di,d in enumerate(['time','lat','lon']):\n",
    "            fout.createDimension(d,pwcol_fp.shape[di])\n",
    "        for v in ['time','lat','lon','foot']:\n",
    "            fout.createVariable(v,fin[v].dtype,fin[v].dimensions)\n",
    "            fout[v].units = fin[v].units\n",
    "            \n",
    "        fout['lat'][:] = 0.5*(fin['lat'][0:-1:2] + fin['lat'][1::2])\n",
    "        fout['lon'][:] = 0.5*(fin['lon'][0:-1:2] + fin['lon'][1::2])\n",
    "        fout['time'][:] = -(23-np.arange(24))*3600 + fin['time'][-1]\n",
    "        fout['foot'][:] = pwcol_fp[:]\n",
    "        fout.close()"
   ]
  },
  {
   "cell_type": "markdown",
   "id": "3a9f4c14-1370-4370-ba24-14d4f5506b65",
   "metadata": {},
   "source": [
    "### Write Obs Uncert File"
   ]
  },
  {
   "cell_type": "code",
   "execution_count": 3,
   "id": "4fbaf1bd-fdc4-4563-8661-af8bcf4a5c9b",
   "metadata": {},
   "outputs": [],
   "source": [
    "files = np.array(sorted(glob.glob('mair/footprints/*foot.nc')))\n",
    "unc = np.ones(len(files))*0.01**2\n",
    "np.savetxt('r.txt',unc)"
   ]
  },
  {
   "cell_type": "markdown",
   "id": "b529ad78-baf0-4493-90fd-d055e80feb85",
   "metadata": {},
   "source": [
    "# Preparing Land Masks"
   ]
  },
  {
   "cell_type": "code",
   "execution_count": 2,
   "id": "a95fbee2-e87b-4189-9091-c7cb5b519a0a",
   "metadata": {},
   "outputs": [],
   "source": [
    "\n",
    "lat = nc.Dataset('/Users/seancrowell/Google Drive/My Drive/CarbonFOX/simulations/mair/footprints/202309031436_-74.423_40.2674_1000_foot.nc')['lat'][:]\n",
    "lon = nc.Dataset('/Users/seancrowell/Google Drive/My Drive/CarbonFOX/simulations/mair/footprints/202309031436_-74.423_40.2674_1000_foot.nc')['lon'][:]\n",
    "lsm = np.zeros((len(lat),len(lon)))\n",
    "for ilat in range(len(lat)):\n",
    "    for ilon in range(len(lon)):\n",
    "        lsm[ilat,ilon] = globe.is_land(lat[ilat],lon[ilon])\n",
    "lsm_nyc = np.array(np.where(lsm > 0.5))\n",
    "np.save('/Users/seancrowell/Google Drive/My Drive/CarbonFOX/simulations/mair//landmask_nyc.npy',lsm_nyc)"
   ]
  },
  {
   "cell_type": "markdown",
   "id": "fca03c52-cded-4a8f-b973-01bce6e06954",
   "metadata": {},
   "source": [
    "## Coarsened Land Mask for testing"
   ]
  },
  {
   "cell_type": "code",
   "execution_count": 3,
   "id": "bd42a992-fbc1-4f7c-a019-6e0ef134be1c",
   "metadata": {},
   "outputs": [],
   "source": [
    "lat = nc.Dataset('/Users/seancrowell/Google Drive/My Drive/CarbonFOX/simulations/mair/footprints/coarse_col_footprints/202309031436_-74.423_40.2674_col_foot.nc')['lat'][:]\n",
    "lon = nc.Dataset('/Users/seancrowell/Google Drive/My Drive/CarbonFOX/simulations/mair/footprints/coarse_col_footprints/202309031436_-74.423_40.2674_col_foot.nc')['lon'][:]\n",
    "lsm = np.zeros((len(lat),len(lon)))\n",
    "for ilat in range(len(lat)):\n",
    "    for ilon in range(len(lon)):\n",
    "        lsm[ilat,ilon] = globe.is_land(lat[ilat],lon[ilon])\n",
    "lsm_nyc = np.array(np.where(lsm > 0.5))\n",
    "np.save('/Users/seancrowell/Google Drive/My Drive/CarbonFOX/simulations/mair//landmask_nyc_coarse.npy',lsm_nyc)"
   ]
  },
  {
   "cell_type": "markdown",
   "id": "70bd641d-e905-4acb-8c12-3c808f321cd5",
   "metadata": {},
   "source": [
    "# Preparing Emissions"
   ]
  },
  {
   "cell_type": "code",
   "execution_count": 7,
   "id": "203613eb-027a-4706-a3af-fcc2568ba2d0",
   "metadata": {},
   "outputs": [],
   "source": [
    "ro.r['load'](f\"{emis_dir}ACES_CO2_2017_monthly_mean_NYCx.RData\")\n",
    "aces = np.array(ro.r['ACES_CO2_0.03x0.02'])#*12*(3600*24*31)/1e6\n",
    "ro.r['load'](f\"{emis_dir}EDGAR_v60_CO2_2018_monthly_NYCx.RData\")\n",
    "edgar = np.array(ro.r['EDGAR_CO2_0.03x0.02'])#*12*(3600*24*31)/1e6\n",
    "ro.r['load'](f\"{emis_dir}Vulcan_CO2_2015_monthly_mean_NYCx.RData\")\n",
    "vulcan = np.array(ro.r['Vulcan_CO2_0.03x0.02'])#*12*(3600*24*31)/1e6\n",
    "\n",
    "lat = nc.Dataset('/Users/seancrowell/Google Drive/My Drive/CarbonFOX/simulations/mair/footprints/col_footprints/202309031436_-74.423_40.2674_col_foot.nc')['lat'][:]\n",
    "lon = nc.Dataset('/Users/seancrowell/Google Drive/My Drive/CarbonFOX/simulations/mair/footprints/col_footprints/202309031436_-74.423_40.2674_col_foot.nc')['lon'][:]\n",
    "\n",
    "f_out = File(emis_dir+'emis_2km_3km.h5','w')\n",
    "f_out.create_dataset('aces',data=aces[:])\n",
    "f_out.create_dataset('vulcan',data=vulcan[:])\n",
    "f_out.create_dataset('edgar',data=edgar[:])\n",
    "f_out.create_dataset('lat',data=lat[:])\n",
    "f_out.create_dataset('lon',data=lon[:])\n",
    "f_out.close()"
   ]
  },
  {
   "cell_type": "code",
   "execution_count": 9,
   "id": "e74af568-87cf-4751-ae50-e9f84a7ddb7b",
   "metadata": {},
   "outputs": [
    {
     "data": {
      "text/plain": [
       "(266,)"
      ]
     },
     "execution_count": 9,
     "metadata": {},
     "output_type": "execute_result"
    }
   ],
   "source": [
    "lat.shape\n",
    "lon.shape"
   ]
  },
  {
   "cell_type": "markdown",
   "id": "6b7dfda5-b114-44cf-8db7-f09c491b5ca3",
   "metadata": {},
   "source": [
    "## Monthly mean emissions"
   ]
  },
  {
   "cell_type": "code",
   "execution_count": 10,
   "id": "9d1bf572-a20a-4dcd-a9a2-088ae8f9734b",
   "metadata": {},
   "outputs": [
    {
     "name": "stderr",
     "output_type": "stream",
     "text": [
      "/Users/seancrowell/miniconda3/envs/mpl/lib/python3.11/site-packages/numpy/core/_methods.py:118: RuntimeWarning: invalid value encountered in reduce\n",
      "  ret = umr_sum(arr, axis, dtype, out, keepdims, where=where)\n"
     ]
    }
   ],
   "source": [
    "aces = File(emis_dir+'emis_2km_3km.h5','r')['aces'][:]\n",
    "vulcan = File(emis_dir+'emis_2km_3km.h5','r')['vulcan'][:]\n",
    "edgar = File(emis_dir+'emis_2km_3km.h5','r')['edgar'][:]\n",
    "lat = File(emis_dir+'emis_2km_3km.h5','r')['lat'][:]\n",
    "lon = File(emis_dir+'emis_2km_3km.h5','r')['lon'][:]\n",
    "\n",
    "\n",
    "aces_24hr_mean = aces.T.mean(1)#np.array([aces[:,:,:,i].T.mean(1) for i in range(12)])\n",
    "edgar_24hr_mean = np.array([[[edgar[:,k,i,j].sum(0) for i in range(266)] for j in range(200)] for k in range(12)])\n",
    "vulcan_24hr_mean = vulcan.T.mean(1)#np.array([vulcan[:,:,:,i].mean(2) for i in range(12)])\n",
    "\n",
    "f_out = File(emis_dir+'monthly_emis_2km_3km.h5','w')\n",
    "f_out.create_dataset('aces',data=aces_24hr_mean[:])\n",
    "f_out.create_dataset('vulcan',data=vulcan_24hr_mean[:])\n",
    "f_out.create_dataset('edgar',data=edgar_24hr_mean[:])\n",
    "f_out.create_dataset('lat',data=lat[:])\n",
    "f_out.create_dataset('lon',data=lon[:])\n",
    "f_out.close()"
   ]
  },
  {
   "cell_type": "markdown",
   "id": "457702ad-e7c0-4a5c-8813-5e72be154769",
   "metadata": {},
   "source": [
    "## Coarsened Fluxes for Testing"
   ]
  },
  {
   "cell_type": "code",
   "execution_count": 11,
   "id": "b5558aba-c858-45c7-a317-accb5040cf0a",
   "metadata": {},
   "outputs": [],
   "source": [
    "aces_coarse = np.zeros((aces_24hr_mean.shape[0],aces_24hr_mean.shape[1]//2,aces_24hr_mean.shape[2]//2))\n",
    "vulcan_coarse = aces_coarse.copy()\n",
    "edgar_coarse = aces_coarse.copy()\n",
    "lat_c = 0.5*(lat[0:-1:2] + lat[1::2])\n",
    "lon_c = 0.5*(lon[0:-1:2] + lon[1::2])\n",
    "\n",
    "for ilat in range(100):\n",
    "    aces_coarse[:,ilat,:] = aces_24hr_mean[:,2*ilat:2*(ilat+1),0:-1:2].mean(1) + aces_24hr_mean[:,2*ilat:2*(ilat+1),1::2].mean(1)\n",
    "    vulcan_coarse[:,ilat,:] = vulcan_24hr_mean[:,2*ilat:2*(ilat+1),0:-1:2].mean(1) + vulcan_24hr_mean[:,2*ilat:2*(ilat+1),1::2].mean(1)\n",
    "    edgar_coarse[:,ilat,:] = edgar_24hr_mean[:,2*ilat:2*(ilat+1),0:-1:2].mean(1) + edgar_24hr_mean[:,2*ilat:2*(ilat+1),1::2].mean(1)\n",
    "\n",
    "f_out = File(emis_dir+'monthly_emis_4km_6km.h5','w')\n",
    "f_out.create_dataset('aces',data=aces_coarse[:])\n",
    "f_out.create_dataset('aces2x',data=aces_coarse[:]*2)\n",
    "f_out.create_dataset('vulcan',data=vulcan_coarse[:])\n",
    "f_out.create_dataset('edgar',data=edgar_coarse[:])\n",
    "f_out.create_dataset('lat',data=lat_c[:])\n",
    "f_out.create_dataset('lon',data=lon_c[:])\n",
    "f_out.close()\n"
   ]
  },
  {
   "cell_type": "markdown",
   "id": "d216382d-8a64-4186-b441-e6bece0beeb0",
   "metadata": {},
   "source": [
    "#### Make Prior Files"
   ]
  },
  {
   "cell_type": "code",
   "execution_count": 8,
   "id": "1d99e597-01cf-4c44-99a9-ba7a49c53417",
   "metadata": {},
   "outputs": [],
   "source": [
    "#Vulcan\n",
    "f_out = nc.Dataset('vulcan_4km_6km_prior_daily_mean.nc','w')\n",
    "f_out.createDimension('time',16)\n",
    "f_out.createDimension('lat',len(lat_c))\n",
    "f_out.createDimension('lon',len(lon_c))\n",
    "f_out.createVariable('lat','f4','lat')\n",
    "f_out.createVariable('lon','f4','lon')\n",
    "f_out.createVariable('sprior','f8',('time','lat','lon'))\n",
    "f_out['lat'][:] = lat_c[:]\n",
    "f_out['lon'][:] = lon_c[:]\n",
    "f_out['sprior'][:] = np.array([vulcan_coarse[8] for i in range(0,48,3)])\n",
    "f_out.close()"
   ]
  },
  {
   "cell_type": "code",
   "execution_count": 7,
   "id": "83239f6f-8e77-4183-9d56-a989f70ce81b",
   "metadata": {},
   "outputs": [],
   "source": [
    "f_out.close()"
   ]
  },
  {
   "cell_type": "code",
   "execution_count": 21,
   "id": "a3ab447a-a858-4201-9907-3b8e6c0e24a1",
   "metadata": {},
   "outputs": [],
   "source": [
    "#ACES\n",
    "f_out = nc.Dataset('aces_4km_6km_prior_daily_mean.nc','w')\n",
    "f_out.createDimension('time',16)\n",
    "f_out.createDimension('lat',len(lat_c))\n",
    "f_out.createDimension('lon',len(lon_c))\n",
    "f_out.createVariable('lat','f4','lat')\n",
    "f_out.createVariable('lon','f4','lon')\n",
    "f_out.createVariable('sprior','f8',('time','lat','lon'))\n",
    "f_out['lat'][:] = lat_c[:]\n",
    "f_out['lon'][:] = lon_c[:]\n",
    "f_out['sprior'][:] = np.array([aces_coarse[8] for i in range(0,48,3)])\n",
    "f_out.close()\n",
    "\n",
    "#ACES\n",
    "f_out = nc.Dataset('aces2x_4km_6km_prior_daily_mean.nc','w')\n",
    "f_out.createDimension('time',16)\n",
    "f_out.createDimension('lat',len(lat_c))\n",
    "f_out.createDimension('lon',len(lon_c))\n",
    "f_out.createVariable('lat','f4','lat')\n",
    "f_out.createVariable('lon','f4','lon')\n",
    "f_out.createVariable('sprior','f8',('time','lat','lon'))\n",
    "f_out['lat'][:] = lat_c[:]\n",
    "f_out['lon'][:] = lon_c[:]\n",
    "f_out['sprior'][:] = np.array([aces_coarse[8]*2 for i in range(0,48,3)])\n",
    "f_out.close()\n",
    "\n",
    "#ACES\n",
    "f_out = nc.Dataset('aces13x_4km_6km_prior_daily_mean.nc','w')\n",
    "f_out.createDimension('time',16)\n",
    "f_out.createDimension('lat',len(lat_c))\n",
    "f_out.createDimension('lon',len(lon_c))\n",
    "f_out.createVariable('lat','f4','lat')\n",
    "f_out.createVariable('lon','f4','lon')\n",
    "f_out.createVariable('sprior','f8',('time','lat','lon'))\n",
    "f_out['lat'][:] = lat_c[:]\n",
    "f_out['lon'][:] = lon_c[:]\n",
    "f_out['sprior'][:] = np.array([aces_coarse[8]*1.3 for i in range(0,48,3)])\n",
    "f_out.close()"
   ]
  },
  {
   "cell_type": "code",
   "execution_count": 10,
   "id": "7099ad83-c540-45c8-bc58-095678cfe8c0",
   "metadata": {},
   "outputs": [],
   "source": [
    "#EDGAR\n",
    "f_out = nc.Dataset('edgar_4km_6km_prior_daily_mean.nc','w')\n",
    "f_out.createDimension('time',16)\n",
    "f_out.createDimension('lat',len(lat_c))\n",
    "f_out.createDimension('lon',len(lon_c))\n",
    "f_out.createVariable('lat','f4','lat')\n",
    "f_out.createVariable('lon','f4','lon')\n",
    "f_out.createVariable('sprior','f8',('time','lat','lon'))\n",
    "f_out['lat'][:] = lat_c[:]\n",
    "f_out['lon'][:] = lon_c[:]\n",
    "f_out['sprior'][:] = np.array([edgar_coarse[8] for i in range(0,48,3)])\n",
    "f_out.close()"
   ]
  },
  {
   "cell_type": "markdown",
   "id": "1ad4fd03-a1a6-48c5-a0a8-49396e84e38b",
   "metadata": {},
   "source": [
    "## Make prior uncert variance \"sigma\""
   ]
  },
  {
   "cell_type": "code",
   "execution_count": 19,
   "id": "7bd082cb-7f49-4e2b-9545-b43cc4b27b9a",
   "metadata": {},
   "outputs": [],
   "source": [
    "f_out = nc.Dataset('sigma_aces2x_4km_6km_prior_daily_mean.nc','w')\n",
    "f_out.createDimension('time',16)\n",
    "f_out.createDimension('lat',len(lat_c))\n",
    "f_out.createDimension('lon',len(lon_c))\n",
    "f_out.createVariable('lat','f4','lat')\n",
    "f_out.createVariable('lon','f4','lon')\n",
    "f_out.createVariable('sigma','f8',('time','lat','lon'))\n",
    "f_out['lat'][:] = lat_c[:]\n",
    "f_out['lon'][:] = lon_c[:]\n",
    "f_out['sigma'][:] = np.abs(np.array([np.array([aces_coarse[8] for i in range(0,48,3)])]))\n",
    "f_out.close()\n",
    "\n",
    "f_out = nc.Dataset('sigma_aces1.3x_4km_6km_prior_daily_mean.nc','w')\n",
    "f_out.createDimension('time',16)\n",
    "f_out.createDimension('lat',len(lat_c))\n",
    "f_out.createDimension('lon',len(lon_c))\n",
    "f_out.createVariable('lat','f4','lat')\n",
    "f_out.createVariable('lon','f4','lon')\n",
    "f_out.createVariable('sigma','f8',('time','lat','lon'))\n",
    "f_out['lat'][:] = lat_c[:]\n",
    "f_out['lon'][:] = lon_c[:]\n",
    "f_out['sigma'][:] = np.abs(np.array([np.array([aces_coarse[8]*0.3 for i in range(0,48,3)])]))\n",
    "f_out.close()\n",
    "\n",
    "f_out = nc.Dataset('sigma_vulcan_4km_6km_prior_daily_mean.nc','w')\n",
    "f_out.createDimension('time',16)\n",
    "f_out.createDimension('lat',len(lat_c))\n",
    "f_out.createDimension('lon',len(lon_c))\n",
    "f_out.createVariable('lat','f4','lat')\n",
    "f_out.createVariable('lon','f4','lon')\n",
    "f_out.createVariable('sigma','f8',('time','lat','lon'))\n",
    "f_out['lat'][:] = lat_c[:]\n",
    "f_out['lon'][:] = lon_c[:]\n",
    "f_out['sigma'][:] = np.abs(np.array([np.array([vulcan_coarse[8]-aces_coarse[8] for i in range(0,48,3)])]))\n",
    "f_out.close()"
   ]
  },
  {
   "cell_type": "markdown",
   "id": "27888b9b-8677-4fa7-9db7-07b8943c542e",
   "metadata": {},
   "source": [
    "# Prepare Obs and Background"
   ]
  },
  {
   "cell_type": "markdown",
   "id": "0501fe19-a21e-42c7-8a13-ce85182c1d9c",
   "metadata": {},
   "source": [
    "### Coarsened Obs for Testing"
   ]
  },
  {
   "cell_type": "code",
   "execution_count": 22,
   "id": "92fbd8ea-4052-4e65-91a7-17c94075d083",
   "metadata": {},
   "outputs": [],
   "source": [
    "with open('../coarse_col_receptors.asc') as f:\n",
    "    files = f.read().splitlines()\n",
    "\n",
    "ctl = lpdm.lpdm('config.ini')\n",
    "\n",
    "bkg = 400.*np.ones(len(files))\n",
    "emis = dict.fromkeys(['aces','aces2x','aces13x','vulcan','edgar'])\n",
    "for ky in list(emis.keys()):\n",
    "    emis[ky] = ctl.load_file(f'{ky}_4km_6km_prior_daily_mean.nc','sprior')\n",
    "\n",
    "dxco2 = dict.fromkeys(emis.keys())\n",
    "for ky in list(dxco2.keys()):\n",
    "    dxco2[ky] = ctl.convolve(emis[ky])\n",
    "#for i,fi in enumerate(files):\n",
    "#    ft = nc.Dataset(fi)['foot'][:]\n",
    "#   for ky in list(dxco2.keys()):\n",
    "#        dxco2[ky][i] = (ft*emis[ky][8][None]).sum()\n",
    "\n",
    "for ky in list(dxco2.keys()):\n",
    "    np.savetxt(f'{ky}_obs.txt',dxco2[ky]+bkg,fmt='%6.3f')\n",
    "    np.savetxt(f'{ky}_dxco2.txt',dxco2[ky],fmt='%6.3f')"
   ]
  },
  {
   "cell_type": "code",
   "execution_count": 17,
   "id": "1a155582-f334-43ee-9084-ce06e2ff53df",
   "metadata": {},
   "outputs": [],
   "source": [
    "uncert = 2.0\n",
    "np.savetxt('r_2.0ppm.txt',uncert**2*np.ones(len(files)))"
   ]
  },
  {
   "cell_type": "code",
   "execution_count": 42,
   "id": "0af61884-e262-465c-8874-9cde98c7510f",
   "metadata": {},
   "outputs": [
    {
     "data": {
      "text/plain": [
       "[<matplotlib.lines.Line2D at 0x181717350>]"
      ]
     },
     "execution_count": 42,
     "metadata": {},
     "output_type": "execute_result"
    },
    {
     "data": {
      "image/png": "[encoded data removed]",
      "text/plain": [
       "<Figure size 640x480 with 1 Axes>"
      ]
     },
     "metadata": {},
     "output_type": "display_data"
    }
   ],
   "source": [
    "yp = np.loadtxt('aces_obs.txt')\n",
    "yt = np.loadtxt('aces2x_obs.txt')\n",
    "bkg = np.loadtxt('bkg.txt')\n",
    "obs = np.loadtxt('obs.txt')\n",
    "plt.plot(yp)\n",
    "plt.plot(yt)\n",
    "plt.plot(bkg)\n",
    "plt.plot(obs)\n"
   ]
  },
  {
   "cell_type": "code",
   "execution_count": 44,
   "id": "8c246c37-6155-4173-8ebd-4924fc54dc17",
   "metadata": {},
   "outputs": [
    {
     "data": {
      "text/plain": [
       "[<matplotlib.lines.Line2D at 0x18157d6d0>]"
      ]
     },
     "execution_count": 44,
     "metadata": {},
     "output_type": "execute_result"
    },
    {
     "data": {
      "image/png": "[encoded data removed]",
      "text/plain": [
       "<Figure size 640x480 with 1 Axes>"
      ]
     },
     "metadata": {},
     "output_type": "display_data"
    }
   ],
   "source": [
    "obs_bkg = np.loadtxt('obs-bg.txt')\n",
    "yt_bkg = np.loadtxt('aces2x_dxco2.txt')\n",
    "plt.plot(obs_bkg-yt_bkg)"
   ]
  },
  {
   "cell_type": "code",
   "execution_count": null,
   "id": "c48744e4-c084-4104-a314-8b8ca176dc0e",
   "metadata": {},
   "outputs": [],
   "source": []
  }
 ],
 "metadata": {
  "kernelspec": {
   "display_name": "Python 3 (ipykernel)",
   "language": "python",
   "name": "python3"
  },
  "language_info": {
   "codemirror_mode": {
    "name": "ipython",
    "version": 3
   },
   "file_extension": ".py",
   "mimetype": "text/x-python",
   "name": "python",
   "nbconvert_exporter": "python",
   "pygments_lexer": "ipython3",
   "version": "3.11.6"
  }
 },
 "nbformat": 4,
 "nbformat_minor": 5
}
